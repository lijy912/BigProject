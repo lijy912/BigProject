{
 "cells": [
  {
   "cell_type": "code",
   "execution_count": 15,
   "metadata": {
    "collapsed": true
   },
   "outputs": [],
   "source": [
    "import pandas as pd\n",
    "\n",
    "linear_data = {\n",
    "    'None': [59.0227, 82.3416, 92.598],\n",
    "    'CFS+GSW': [51.1853, 63.5704, 68.5535],\n",
    "    'InfoGain': [48.089, 60.0387, 72.7625],\n",
    "    'Relief': [51.4756, 60.2806, 68.2632],\n",
    "}\n",
    "linear_data = pd.DataFrame(linear_data, index=['NB', 'LR', 'KNN'])\n",
    "\n",
    "nonlinear_data = {\n",
    "    'None': [61.0063, 74.0203, 88.4857],\n",
    "    'CFS+GSW': [60.0387, 64.5864, 71.6981],\n",
    "    'InfoGain': [61.1998, 60.9579, 60.4741],\n",
    "    'Relief': [52.3464, 56.4586, 55.7813],\n",
    "}\n",
    "nonlinear_data = pd.DataFrame(nonlinear_data, index=['NB', 'LR', 'KNN'])\n",
    "\n",
    "all_data = {\n",
    "    'None': [62.119, 0, 91.582],\n",
    "    'CFS+GSW': [54.5235, 69.7146, 76.0039],\n",
    "    'InfoGain': [49.0082, 66.8602, 68.8437],\n",
    "    'Relief': [53.6043, 62.1674, 65.7475],\n",
    "}\n",
    "all_data = pd.DataFrame(all_data, index=['NB', 'LR', 'KNN'])"
   ]
  },
  {
   "cell_type": "code",
   "execution_count": 16,
   "outputs": [
    {
     "data": {
      "text/plain": "        None  CFS+GSW  InfoGain   Relief\nNB   59.0227  51.1853   48.0890  51.4756\nLR   82.3416  63.5704   60.0387  60.2806\nKNN  92.5980  68.5535   72.7625  68.2632",
      "text/html": "<div>\n<style scoped>\n    .dataframe tbody tr th:only-of-type {\n        vertical-align: middle;\n    }\n\n    .dataframe tbody tr th {\n        vertical-align: top;\n    }\n\n    .dataframe thead th {\n        text-align: right;\n    }\n</style>\n<table border=\"1\" class=\"dataframe\">\n  <thead>\n    <tr style=\"text-align: right;\">\n      <th></th>\n      <th>None</th>\n      <th>CFS+GSW</th>\n      <th>InfoGain</th>\n      <th>Relief</th>\n    </tr>\n  </thead>\n  <tbody>\n    <tr>\n      <th>NB</th>\n      <td>59.0227</td>\n      <td>51.1853</td>\n      <td>48.0890</td>\n      <td>51.4756</td>\n    </tr>\n    <tr>\n      <th>LR</th>\n      <td>82.3416</td>\n      <td>63.5704</td>\n      <td>60.0387</td>\n      <td>60.2806</td>\n    </tr>\n    <tr>\n      <th>KNN</th>\n      <td>92.5980</td>\n      <td>68.5535</td>\n      <td>72.7625</td>\n      <td>68.2632</td>\n    </tr>\n  </tbody>\n</table>\n</div>"
     },
     "execution_count": 16,
     "metadata": {},
     "output_type": "execute_result"
    }
   ],
   "source": [
    "linear_data"
   ],
   "metadata": {
    "collapsed": false,
    "pycharm": {
     "name": "#%%\n"
    }
   }
  },
  {
   "cell_type": "code",
   "execution_count": 17,
   "outputs": [
    {
     "data": {
      "text/plain": "        None  CFS+GSW  InfoGain   Relief\nNB   61.0063  60.0387   61.1998  52.3464\nLR   74.0203  64.5864   60.9579  56.4586\nKNN  88.4857  71.6981   60.4741  55.7813",
      "text/html": "<div>\n<style scoped>\n    .dataframe tbody tr th:only-of-type {\n        vertical-align: middle;\n    }\n\n    .dataframe tbody tr th {\n        vertical-align: top;\n    }\n\n    .dataframe thead th {\n        text-align: right;\n    }\n</style>\n<table border=\"1\" class=\"dataframe\">\n  <thead>\n    <tr style=\"text-align: right;\">\n      <th></th>\n      <th>None</th>\n      <th>CFS+GSW</th>\n      <th>InfoGain</th>\n      <th>Relief</th>\n    </tr>\n  </thead>\n  <tbody>\n    <tr>\n      <th>NB</th>\n      <td>61.0063</td>\n      <td>60.0387</td>\n      <td>61.1998</td>\n      <td>52.3464</td>\n    </tr>\n    <tr>\n      <th>LR</th>\n      <td>74.0203</td>\n      <td>64.5864</td>\n      <td>60.9579</td>\n      <td>56.4586</td>\n    </tr>\n    <tr>\n      <th>KNN</th>\n      <td>88.4857</td>\n      <td>71.6981</td>\n      <td>60.4741</td>\n      <td>55.7813</td>\n    </tr>\n  </tbody>\n</table>\n</div>"
     },
     "execution_count": 17,
     "metadata": {},
     "output_type": "execute_result"
    }
   ],
   "source": [
    "nonlinear_data"
   ],
   "metadata": {
    "collapsed": false,
    "pycharm": {
     "name": "#%%\n"
    }
   }
  },
  {
   "cell_type": "code",
   "execution_count": 18,
   "outputs": [
    {
     "data": {
      "text/plain": "       None  CFS+GSW  InfoGain   Relief\nNB   62.119  54.5235   49.0082  53.6043\nLR    0.000  69.7146   66.8602  62.1674\nKNN  91.582  76.0039   68.8437  65.7475",
      "text/html": "<div>\n<style scoped>\n    .dataframe tbody tr th:only-of-type {\n        vertical-align: middle;\n    }\n\n    .dataframe tbody tr th {\n        vertical-align: top;\n    }\n\n    .dataframe thead th {\n        text-align: right;\n    }\n</style>\n<table border=\"1\" class=\"dataframe\">\n  <thead>\n    <tr style=\"text-align: right;\">\n      <th></th>\n      <th>None</th>\n      <th>CFS+GSW</th>\n      <th>InfoGain</th>\n      <th>Relief</th>\n    </tr>\n  </thead>\n  <tbody>\n    <tr>\n      <th>NB</th>\n      <td>62.119</td>\n      <td>54.5235</td>\n      <td>49.0082</td>\n      <td>53.6043</td>\n    </tr>\n    <tr>\n      <th>LR</th>\n      <td>0.000</td>\n      <td>69.7146</td>\n      <td>66.8602</td>\n      <td>62.1674</td>\n    </tr>\n    <tr>\n      <th>KNN</th>\n      <td>91.582</td>\n      <td>76.0039</td>\n      <td>68.8437</td>\n      <td>65.7475</td>\n    </tr>\n  </tbody>\n</table>\n</div>"
     },
     "execution_count": 18,
     "metadata": {},
     "output_type": "execute_result"
    }
   ],
   "source": [
    "all_data"
   ],
   "metadata": {
    "collapsed": false,
    "pycharm": {
     "name": "#%%\n"
    }
   }
  }
 ],
 "metadata": {
  "kernelspec": {
   "name": "py37",
   "language": "python",
   "display_name": "py37"
  },
  "language_info": {
   "codemirror_mode": {
    "name": "ipython",
    "version": 2
   },
   "file_extension": ".py",
   "mimetype": "text/x-python",
   "name": "python",
   "nbconvert_exporter": "python",
   "pygments_lexer": "ipython2",
   "version": "2.7.6"
  }
 },
 "nbformat": 4,
 "nbformat_minor": 0
}