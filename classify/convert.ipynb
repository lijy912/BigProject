{
 "cells": [
  {
   "cell_type": "markdown",
   "source": [
    "# 特征选择\n",
    "\n",
    "在weka软件上分别对线性数据和非线性数据进行了三种特征选项算法：\n",
    "\n",
    "**线性数据**：\n",
    "- CFS+GSW: 5,35,37,45,47,49,61,69,89,90,95,109,121\n",
    "- InfoGain: 69,37,90,92,91,96,89,45\n",
    "- Relief: 69,109,45,77,92,89,5,85\n",
    "\n",
    "**非线性数据**：\n",
    "- CFS+GSW: 1,6,15,18,25,27,28,36,47,49,53,54,62,65,71,73,76,77,79,84,88,95\n",
    "- InfoGain: 53,27,25,71,77,28,79,49,65\n",
    "- Relief: 53,59,71,35,83,65,47,89,77"
   ],
   "metadata": {
    "collapsed": false,
    "pycharm": {
     "name": "#%% md\n"
    }
   }
  },
  {
   "cell_type": "code",
   "execution_count": 1,
   "outputs": [],
   "source": [
    "# 导入库\n",
    "import pandas as pd\n",
    "\n",
    "# 数据路径\n",
    "linear_csv_path = 'C:/Users/lijia/Desktop/BigProject/feature_select/linear/linear_data.csv'\n",
    "nonlinear_csv_path = 'C:/Users/lijia/Desktop/BigProject/feature_select/nonlinear/nonlinear_data.csv'\n",
    "\n",
    "# 载入提取非线性特征的数据\n",
    "linear_data = pd.read_csv(linear_csv_path)\n",
    "nonlinear_data = pd.read_csv(nonlinear_csv_path)\n",
    "\n",
    "# linear_data\n",
    "linear_CFS_GSW = linear_data.iloc[:, [5,35,37,45,47,49,61,69,89,90,95,109,121,-1]]\n",
    "linear_InfoGain = linear_data.iloc[:, [69,37,90,92,91,96,89,45,-1]]\n",
    "linear_Relief = linear_data.iloc[:, [69,109,45,77,92,89,5,85,-1]]\n",
    "\n",
    "# nonlinear_data\n",
    "nonlinear_CFS_GSW = nonlinear_data.iloc[:, [1,6,15,18,25,27,28,36,47,49,53,54,62,65,71,73,76,77,79,84,88,95,-1]]\n",
    "nonlinear_InfoGain = nonlinear_data.iloc[:, [53,27,25,71,77,28,79,49,65,-1]]\n",
    "nonlinear_Relief = nonlinear_data.iloc[:, [53,59,71,35,83,65,47,89,77,-1]]\n",
    "\n",
    "# 导出为 CSV 文件\n",
    "linear_CFS_GSW.to_csv('C:/Users/lijia/Desktop/BigProject/classify/data/linear_CFS_GSW.csv', index=False, header=True)\n",
    "linear_InfoGain.to_csv('C:/Users/lijia/Desktop/BigProject/classify/data/linear_InfoGain.csv', index=False, header=True)\n",
    "linear_Relief.to_csv('C:/Users/lijia/Desktop/BigProject/classify/data/linear_Relief.csv', index=False, header=True)\n",
    "\n",
    "nonlinear_CFS_GSW.to_csv('C:/Users/lijia/Desktop/BigProject/classify/data/nonlinear_CFS_GSW.csv', index=False, header=True)\n",
    "nonlinear_InfoGain.to_csv('C:/Users/lijia/Desktop/BigProject/classify/data/nonlinear_InfoGain.csv', index=False, header=True)\n",
    "nonlinear_Relief.to_csv('C:/Users/lijia/Desktop/BigProject/classify/data/nonlinear_Relief.csv', index=False, header=True)"
   ],
   "metadata": {
    "collapsed": false,
    "pycharm": {
     "name": "#%%\n"
    }
   }
  },
  {
   "cell_type": "code",
   "execution_count": 13,
   "outputs": [],
   "source": [
    "# L_NL_data\n",
    "L_NL_data_CFS_GSW = pd.concat([\n",
    "    linear_data.iloc[:, [5,35,37,45,47,49,61,69,89,90,95,109,121]],\n",
    "    nonlinear_data.iloc[:, [1,6,15,18,25,27,28,36,47,49,53,54,62,65,71,73,76,77,79,84,88,95,-1]]],\n",
    "    axis=1)\n",
    "L_NL_datar_InfoGain = pd.concat([\n",
    "    linear_data.iloc[:, [69,37,90,92,91,96,89,45]],\n",
    "    nonlinear_data.iloc[:, [53,27,25,71,77,28,79,49,65,-1]]],\n",
    "    axis=1)\n",
    "L_NL_data_Relief = pd.concat([\n",
    "    linear_data.iloc[:, [69,109,45,77,92,89,5,85]],\n",
    "    nonlinear_data.iloc[:, [53,59,71,35,83,65,47,89,77,-1]]],\n",
    "    axis=1)\n",
    "\n",
    "L_NL_data_CFS_GSW = L_NL_data_CFS_GSW.loc[:, ~L_NL_data_CFS_GSW.columns.duplicated()]\n",
    "L_NL_datar_InfoGain = L_NL_datar_InfoGain.loc[:, ~L_NL_datar_InfoGain.columns.duplicated()]\n",
    "L_NL_data_Relief = L_NL_data_Relief.loc[:, ~L_NL_data_Relief.columns.duplicated()]\n",
    "\n",
    "L_NL_data_CFS_GSW.to_csv('C:/Users/lijia/Desktop/BigProject/classify/data/lnl_CFS_GSW.csv', index=False, header=True)\n",
    "L_NL_datar_InfoGain.to_csv('C:/Users/lijia/Desktop/BigProject/classify/data/lnl_InfoGain.csv', index=False, header=True)\n",
    "L_NL_data_Relief.to_csv('C:/Users/lijia/Desktop/BigProject/classify/data/lnl_Relief.csv', index=False, header=True)"
   ],
   "metadata": {
    "collapsed": false,
    "pycharm": {
     "name": "#%%\n"
    }
   }
  },
  {
   "cell_type": "code",
   "execution_count": 16,
   "outputs": [],
   "source": [
    "nonlinear_columns = [f'B{i}' for i in range(96)] + ['label']\n",
    "nonlinear_data_copy = nonlinear_data.copy()\n",
    "nonlinear_data_copy.columns = nonlinear_columns\n",
    "\n",
    "L_NL_data = pd.concat([\n",
    "    linear_data.iloc[:,:-1],\n",
    "    nonlinear_data_copy],\n",
    "    axis=1)\n",
    "L_NL_data.to_csv('C:/Users/lijia/Desktop/BigProject/classify/data/lnl_none.csv', index=False, header=True)"
   ],
   "metadata": {
    "collapsed": false,
    "pycharm": {
     "name": "#%%\n"
    }
   }
  }
 ],
 "metadata": {
  "kernelspec": {
   "name": "py37",
   "language": "python",
   "display_name": "py37"
  },
  "language_info": {
   "codemirror_mode": {
    "name": "ipython",
    "version": 2
   },
   "file_extension": ".py",
   "mimetype": "text/x-python",
   "name": "python",
   "nbconvert_exporter": "python",
   "pygments_lexer": "ipython2",
   "version": "2.7.6"
  }
 },
 "nbformat": 4,
 "nbformat_minor": 0
}