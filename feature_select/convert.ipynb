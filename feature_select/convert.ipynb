{
 "cells": [
  {
   "cell_type": "code",
   "execution_count": 2,
   "metadata": {
    "collapsed": true
   },
   "outputs": [
    {
     "name": "stdout",
     "output_type": "stream",
     "text": [
      "linear_data     样本个数: 2067, 特征维度: 128\n",
      "nonlinear_data  样本个数: 2067, 特征维度: 96\n",
      "HC: 1131\n",
      "MDD: 936\n",
      "导出成功：C:/Users/lijia/Desktop/BigProject/feature_select/linear/linear_data.csv\n",
      "导出成功：C:/Users/lijia/Desktop/BigProject/feature_select/nonlinear/nonlinear_data.csv\n"
     ]
    }
   ],
   "source": [
    "# 导入库\n",
    "import scipy.io\n",
    "import numpy as np\n",
    "import pandas as pd\n",
    "\n",
    "# 载入提取线性特征的数据\n",
    "linear_data_path = 'C:/Users/lijia/Desktop/BigProject/feature_extraction/linear/finalFeatures.mat'\n",
    "mat_data = scipy.io.loadmat(linear_data_path)\n",
    "linear_data = mat_data['finalFeatures']\n",
    "\n",
    "# 载入提取非线性特征的数据\n",
    "nonlinear_data_path = 'C:/Users/lijia/Desktop/BigProject/feature_extraction/nonlinear/finalFeatures.mat'\n",
    "mat_data = scipy.io.loadmat(nonlinear_data_path)\n",
    "nonlinear_data = mat_data['finalFeatures']\n",
    "\n",
    "# 删除不需要的特征，即第一列\n",
    "linear_data = linear_data[:, 1:]\n",
    "nonlinear_data = nonlinear_data[:, 1:]\n",
    "\n",
    "# 标签信息，前24*39个样本标签为'MDD'，后29*39个样本标签为 'HC'\n",
    "labels = np.vstack((np.full((24*39, 1), 'MDD'), np.full((29*39, 1), 'HC')))\n",
    "\n",
    "# 查看数据信息\n",
    "print(f'linear_data     样本个数: {linear_data.shape[0]}, 特征维度: {linear_data.shape[1]}')\n",
    "print(f'nonlinear_data  样本个数: {nonlinear_data.shape[0]}, 特征维度: {nonlinear_data.shape[1]}')\n",
    "\n",
    "# 查看标签信息\n",
    "flat_labels = labels.flatten()\n",
    "unique_labels, counts = np.unique(flat_labels, return_counts=True)\n",
    "for label, count in zip(unique_labels, counts):\n",
    "    print(f\"{label}: {count}\")\n",
    "\n",
    "# 将标签添加到数据的最后一列\n",
    "linear_data_with_labels = np.hstack((linear_data, labels))\n",
    "nonlinear_data_with_labels = np.hstack((nonlinear_data, labels))\n",
    "\n",
    "# 创建属性名\n",
    "linear_columns = [f'A{i}' for i in range(128)] + ['label']\n",
    "nonlinear_columns = [f'A{i}' for i in range(96)] + ['label']\n",
    "\n",
    "# 将 NumPy 数组转换为 Pandas DataFrame\n",
    "linear_df = pd.DataFrame(linear_data_with_labels, columns=linear_columns)\n",
    "nonlinear_df = pd.DataFrame(nonlinear_data_with_labels, columns=nonlinear_columns)\n",
    "\n",
    "# 导出为 CSV 文件\n",
    "linear_csv_path = 'C:/Users/lijia/Desktop/BigProject/feature_select/linear/linear_data.csv'\n",
    "nonlinear_csv_path = 'C:/Users/lijia/Desktop/BigProject/feature_select/nonlinear/nonlinear_data.csv'\n",
    "linear_df.to_csv(linear_csv_path, index=False, header=True)\n",
    "nonlinear_df.to_csv(nonlinear_csv_path, index=False, header=True)\n",
    "\n",
    "print(f'导出成功：{linear_csv_path}')\n",
    "print(f'导出成功：{nonlinear_csv_path}')"
   ]
  },
  {
   "cell_type": "code",
   "execution_count": null,
   "outputs": [],
   "source": [],
   "metadata": {
    "collapsed": false,
    "pycharm": {
     "name": "#%%\n"
    }
   }
  }
 ],
 "metadata": {
  "kernelspec": {
   "display_name": "Python 3",
   "language": "python",
   "name": "python3"
  },
  "language_info": {
   "codemirror_mode": {
    "name": "ipython",
    "version": 2
   },
   "file_extension": ".py",
   "mimetype": "text/x-python",
   "name": "python",
   "nbconvert_exporter": "python",
   "pygments_lexer": "ipython2",
   "version": "2.7.6"
  }
 },
 "nbformat": 4,
 "nbformat_minor": 0
}